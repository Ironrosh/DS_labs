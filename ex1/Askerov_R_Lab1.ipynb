{
 "cells": [
  {
   "cell_type": "markdown",
   "metadata": {},
   "source": [
    "Аскеров Руслан НПИбд-01-17 Лабораторная 1, Вариант 2.\n",
    "\n",
    "1) Используя функционал библиотеки NumPy, постройте  𝑛  значений случайных признаков  𝑋  и  𝑌 , имеющих (двумерное) гауссовское распределение с математическим ожиданием  𝑎  и корреляционной матрицей  𝑅 .\n",
    "\n",
    "n = 1000, a = [-1., 0.], R = [[1., 0.9], [0.9, 2.]]"
   ]
  },
  {
   "cell_type": "code",
   "execution_count": 2,
   "metadata": {},
   "outputs": [
    {
     "data": {
      "text/plain": [
       "(-4.238314828244195, 3.002020675542182, -4.819954574017112, 5.352659143980268)"
      ]
     },
     "execution_count": 2,
     "metadata": {},
     "output_type": "execute_result"
    },
    {
     "data": {
      "image/png": "[encoded data removed]",
      "text/plain": [
       "<Figure size 432x288 with 1 Axes>"
      ]
     },
     "metadata": {
      "needs_background": "light"
     },
     "output_type": "display_data"
    }
   ],
   "source": [
    "import numpy as np\n",
    "import matplotlib.pyplot as plt\n",
    "\n",
    "mean = [-1., 0.]\n",
    "cov = [[1., 0.9], [0.9, 2.]]\n",
    "x, y = np.random.multivariate_normal(mean, cov, 1000).T\n",
    "\n",
    "plt.plot(x, y, 'o') # marker 'o'\n",
    "plt.axis('equal') # to equalize the scales of axis"
   ]
  },
  {
   "cell_type": "markdown",
   "metadata": {},
   "source": [
    "2) Вычислите и выведите на экран для построенных значений признаков  𝑋  и  𝑌  математические ожидания  𝜇𝑋 ,  𝜇𝑌 , дисперсии  𝜎2𝑋 ,  𝜎2𝑌 , а также корреляцию между признаками  𝜌𝑋,𝑌 .\n",
    "\n",
    "3) Визуализируйте построенные данные  {𝑥𝑖}𝑛𝑖=1  и  {𝑦𝑖}𝑛𝑖=1  на плоскости в виде точек с координатами  {(𝑥𝑖,𝑦𝑖)}𝑛𝑖=1 . Визуализируйте математическое ожидание  (𝜇𝑋,𝜇𝑌)  на плоскости в виде точки другого цвета и с другим маркером."
   ]
  },
  {
   "cell_type": "code",
   "execution_count": 8,
   "metadata": {},
   "outputs": [
    {
     "name": "stdout",
     "output_type": "stream",
     "text": [
      "Mean:\n",
      "x = -0.9695218397612846\n",
      "y = 0.01047202037075661\n",
      "\n",
      "Disperse:\n",
      "x = 0.9623151369253566\n",
      "y = 1.9824684134126704\n",
      "\n",
      "Correlation:\n",
      "[[1.         0.62036973]\n",
      " [0.62036973 1.        ]]\n",
      "\n",
      "\n"
     ]
    },
    {
     "data": {
      "image/png": "[encoded data removed]",
      "text/plain": [
       "<Figure size 432x288 with 1 Axes>"
      ]
     },
     "metadata": {
      "needs_background": "light"
     },
     "output_type": "display_data"
    }
   ],
   "source": [
    "import numpy as np\n",
    "import matplotlib.pyplot as plt\n",
    "import pandas as pd\n",
    "\n",
    "\n",
    "def main():\n",
    "    result = \"\"\n",
    "\n",
    "    n = 1000\n",
    "    a_wait = [-1., 0.]\n",
    "    r_corr = [[1., 0.9], [0.9, 2.]]\n",
    "    x, y = np.random.multivariate_normal(a_wait, r_corr, n).T\n",
    "\n",
    "    result += \"Mean:\\n\" \\\n",
    "              \"x = \" + str(np.mean(x)) + \"\\n\" + \\\n",
    "              \"y = \" + str(np.mean(y)) + \"\\n\\n\"\n",
    "    result += \"Disperse:\\n\" \\\n",
    "              \"x = \" + str(np.var(x)) + \"\\n\" + \\\n",
    "              \"y = \" + str(np.var(y)) + \"\\n\\n\"\n",
    "    result += \"Correlation:\\n\" + \\\n",
    "              str(np.corrcoef(x, y)) + \"\\n\\n\"\n",
    "    print(result)\n",
    "\n",
    "    plt.plot(x, y, 'g.')\n",
    "    plt.plot(np.mean(x), np.mean(y), 'b+')\n",
    "    plt.axis('equal')\n",
    "    # plt.show()\n",
    "\n",
    "\n",
    "\n",
    "# Outer launch\n",
    "if __name__ == '__main__':\n",
    "    main()"
   ]
  },
  {
   "cell_type": "markdown",
   "metadata": {},
   "source": [
    "Задание 2:\n",
    "    Используя функционал библиотеки Pandas, cчитайте заданный набор данных из репозитария UCI.\n",
    "\n",
    "    Проведите исследование набора данных, выявляя числовые и категориальные признаки. Если какие-то из признаков были неправильно классифицированы как категориальные, то преобразуйте их в числовые. Если в наборе присутствуют незаполненные значений, то игнорируйте такие записи.\n",
    "\n",
    "    Для числового признака, имеющего наибольшую дисперсию, постройте эмпирическую функцию распределения (CDF) и визуализируйте ее в виде графика на плоскости.\n",
    "\n",
    "    Найдите числовой признак, наименее коррелированный с числовым признаком, имеющим наибольшую дисперсию.\n",
    "\n",
    "    Для этого признака постройте эмпирическую плотность распределения (PDF) и визуализируйте ее в виде гистограммы.\n",
    "\n",
    "    Вычислите и выведите на экран для указанных выше двух признаков математические ожидания, дисперсии, а также корреляцию между признаками."
   ]
  },
  {
   "cell_type": "code",
   "execution_count": 4,
   "metadata": {},
   "outputs": [
    {
     "name": "stdout",
     "output_type": "stream",
     "text": [
      "<class 'pandas.core.frame.DataFrame'>\n",
      "RangeIndex: 32561 entries, 0 to 32560\n",
      "Data columns (total 15 columns):\n",
      " #   Column  Non-Null Count  Dtype \n",
      "---  ------  --------------  ----- \n",
      " 0   V0      32561 non-null  int64 \n",
      " 1   V1      32561 non-null  object\n",
      " 2   V2      32561 non-null  int64 \n",
      " 3   V3      32561 non-null  object\n",
      " 4   V4      32561 non-null  int64 \n",
      " 5   V5      32561 non-null  object\n",
      " 6   V6      32561 non-null  object\n",
      " 7   V7      32561 non-null  object\n",
      " 8   V8      32561 non-null  object\n",
      " 9   V9      32561 non-null  object\n",
      " 10  V10     32561 non-null  int64 \n",
      " 11  V11     32561 non-null  int64 \n",
      " 12  V12     32561 non-null  int64 \n",
      " 13  V13     32561 non-null  object\n",
      " 14  V14     32561 non-null  object\n",
      "dtypes: int64(6), object(9)\n",
      "memory usage: 3.7+ MB\n",
      "\n",
      "Data info:\n",
      "None\n",
      "\n",
      "Data summary:\n",
      "                 V0            V2            V4           V10           V11  \\\n",
      "count  32561.000000  3.256100e+04  32561.000000  32561.000000  32561.000000   \n",
      "mean      38.581647  1.897784e+05     10.080679   1077.648844     87.303830   \n",
      "std       13.640433  1.055500e+05      2.572720   7385.292085    402.960219   \n",
      "min       17.000000  1.228500e+04      1.000000      0.000000      0.000000   \n",
      "25%       28.000000  1.178270e+05      9.000000      0.000000      0.000000   \n",
      "50%       37.000000  1.783560e+05     10.000000      0.000000      0.000000   \n",
      "75%       48.000000  2.370510e+05     12.000000      0.000000      0.000000   \n",
      "max       90.000000  1.484705e+06     16.000000  99999.000000   4356.000000   \n",
      "\n",
      "                V12  \n",
      "count  32561.000000  \n",
      "mean      40.437456  \n",
      "std       12.347429  \n",
      "min        1.000000  \n",
      "25%       40.000000  \n",
      "50%       40.000000  \n",
      "75%       45.000000  \n",
      "max       99.000000  \n",
      "\n",
      "\n"
     ]
    },
    {
     "data": {
      "image/png": "[encoded data removed]",
      "text/plain": [
       "<Figure size 432x288 with 1 Axes>"
      ]
     },
     "metadata": {
      "needs_background": "light"
     },
     "output_type": "display_data"
    },
    {
     "data": {
      "image/png": "[encoded data removed]",
      "text/plain": [
       "<Figure size 432x288 with 1 Axes>"
      ]
     },
     "metadata": {
      "needs_background": "light"
     },
     "output_type": "display_data"
    },
    {
     "name": "stdout",
     "output_type": "stream",
     "text": [
      "Mean:\n",
      "dis = 189778.36651208502\n",
      "corr = 38.58164675532078\n",
      "\n",
      "Dispersion:\n",
      "dis = 11140455640.25589\n",
      "corr = 186.05568600783081\n",
      "\n",
      "Correlation:\n",
      "-0.07664586787504062\n",
      "\n",
      "\n"
     ]
    }
   ],
   "source": [
    "import numpy as np\n",
    "import matplotlib.pyplot as plt\n",
    "import pandas as pd\n",
    "\n",
    "import re\n",
    "\n",
    "\n",
    "def main():\n",
    "    data = pd.read_csv('http://archive.ics.uci.edu/ml/machine-learning-databases/adult/adult.data',\n",
    "                       header=None, prefix='V')\n",
    "    result = \"\\n\"\n",
    "    result += \"Data info:\\n\" + \\\n",
    "              str(data.info()) + \"\\n\\n\"\n",
    "    result += \"Data summary:\\n\" + \\\n",
    "              str(data.describe()) + \"\\n\\n\"\n",
    "    print(result)\n",
    "    dis_id = None\n",
    "    dis = None\n",
    "    dispersion_max = 0.0\n",
    "    for i in data.columns:\n",
    "        if re.match('int64|float64', str(data[i].dtype)):\n",
    "            column = np.array(data[i])\n",
    "            dispersion = np.var(column)\n",
    "            if dispersion > dispersion_max:\n",
    "                dispersion_max = dispersion\n",
    "                dis_id = i\n",
    "                dis = column\n",
    "    x_list = [data[dis_id].min() + (data[dis_id].max() - data[dis_id].min()) * i / 500\n",
    "              for i in range(0, 500)]\n",
    "    y_list = [ECDF(data[dis_id], x) for x in x_list]\n",
    "    plt.plot(x_list, y_list, 'b')\n",
    "    plt.show()\n",
    "\n",
    "    corr_id = None\n",
    "    corr = None\n",
    "    correlation_min = 100.0\n",
    "    for i in data.columns:\n",
    "        if re.match('int64|float64', str(data[i].dtype)):\n",
    "            column = np.array(data[i])\n",
    "            correlation = np.corrcoef(dis, column)[0, 1]\n",
    "            if correlation < correlation_min:\n",
    "                correlation_min = correlation\n",
    "\n",
    "                corr_id = i\n",
    "                corr = column\n",
    "    plt.hist(data[corr_id], color='red', edgecolor='black', bins=20, density=True)\n",
    "    plt.show()\n",
    "    result = \"\"\n",
    "    result += \"Mean:\\n\" \\\n",
    "              \"dis = \" + str(np.mean(dis)) + \"\\n\" + \\\n",
    "              \"corr = \" + str(np.mean(corr)) + \"\\n\\n\"\n",
    "    result += \"Dispersion:\\n\" \\\n",
    "              \"dis = \" + str(np.var(dis)) + \"\\n\" + \\\n",
    "              \"corr = \" + str(np.var(corr)) + \"\\n\\n\"\n",
    "    result += \"Correlation:\\n\" + \\\n",
    "              str(np.corrcoef(dis, corr)[0, 1]) + \"\\n\\n\"\n",
    "    print(result)\n",
    "\n",
    "\n",
    "def ECDF(data, x):\n",
    "    counter = 0.0\n",
    "    for v in data:\n",
    "        if v <= x:\n",
    "            counter += 1\n",
    "    return counter / len(data)\n",
    "\n",
    "\n",
    "# Debugging\n",
    "def check(to_check):\n",
    "    print(to_check)\n",
    "    print(type(to_check))\n",
    "\n",
    "\n",
    "# Outer launch\n",
    "if __name__ == '__main__':\n",
    "    main()\n"
   ]
  },
  {
   "cell_type": "code",
   "execution_count": null,
   "metadata": {},
   "outputs": [],
   "source": []
  }
 ],
 "metadata": {
  "kernelspec": {
   "display_name": "Python 3",
   "language": "python",
   "name": "python3"
  },
  "language_info": {
   "codemirror_mode": {
    "name": "ipython",
    "version": 3
   },
   "file_extension": ".py",
   "mimetype": "text/x-python",
   "name": "python",
   "nbconvert_exporter": "python",
   "pygments_lexer": "ipython3",
   "version": "3.8.2"
  }
 },
 "nbformat": 4,
 "nbformat_minor": 4
}
